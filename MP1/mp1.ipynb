{
 "cells": [
  {
   "cell_type": "markdown",
   "metadata": {},
   "source": [
    "The goal of this is to answer the questions for my Mini project about ice cream types. "
   ]
  },
  {
   "cell_type": "code",
   "execution_count": 1,
   "metadata": {},
   "outputs": [
    {
     "data": {
      "text/html": [
       "<div>\n",
       "<style scoped>\n",
       "    .dataframe tbody tr th:only-of-type {\n",
       "        vertical-align: middle;\n",
       "    }\n",
       "\n",
       "    .dataframe tbody tr th {\n",
       "        vertical-align: top;\n",
       "    }\n",
       "\n",
       "    .dataframe thead th {\n",
       "        text-align: right;\n",
       "    }\n",
       "</style>\n",
       "<table border=\"1\" class=\"dataframe\">\n",
       "  <thead>\n",
       "    <tr style=\"text-align: right;\">\n",
       "      <th></th>\n",
       "      <th>Timestamp</th>\n",
       "      <th>What gender do you identify as?</th>\n",
       "      <th>What is your ethnicity?</th>\n",
       "      <th>What year are you?</th>\n",
       "      <th>What is your favorite type of ice cream?</th>\n",
       "      <th>When you enjoy ice cream most</th>\n",
       "      <th>Where do you enjoy ice cream the most?</th>\n",
       "      <th>Why do you enjoy your favorite ice cream the most</th>\n",
       "      <th>Why do you enjoy ice cream at the time you do?</th>\n",
       "      <th>Why do you eat it where you do?</th>\n",
       "    </tr>\n",
       "  </thead>\n",
       "  <tbody>\n",
       "    <tr>\n",
       "      <th>0</th>\n",
       "      <td>1/28/2024 20:14:49</td>\n",
       "      <td>Male</td>\n",
       "      <td>African-American</td>\n",
       "      <td>freshman</td>\n",
       "      <td>mint chocolate chip</td>\n",
       "      <td>10:01pm-12am</td>\n",
       "      <td>Home</td>\n",
       "      <td>the taste</td>\n",
       "      <td>desert time</td>\n",
       "      <td>already at home</td>\n",
       "    </tr>\n",
       "    <tr>\n",
       "      <th>1</th>\n",
       "      <td>1/28/2024 20:16:07</td>\n",
       "      <td>Female</td>\n",
       "      <td>Caucasian</td>\n",
       "      <td>junior</td>\n",
       "      <td>Cookie Dough</td>\n",
       "      <td>8:01-10pm</td>\n",
       "      <td>Home</td>\n",
       "      <td>the taste</td>\n",
       "      <td>desert time</td>\n",
       "      <td>already at home</td>\n",
       "    </tr>\n",
       "    <tr>\n",
       "      <th>2</th>\n",
       "      <td>1/28/2024 20:24:33</td>\n",
       "      <td>Male</td>\n",
       "      <td>Caucasian</td>\n",
       "      <td>senior</td>\n",
       "      <td>Cookie Dough</td>\n",
       "      <td>10:01pm-12am</td>\n",
       "      <td>Home</td>\n",
       "      <td>the taste</td>\n",
       "      <td>desert time</td>\n",
       "      <td>already at home</td>\n",
       "    </tr>\n",
       "    <tr>\n",
       "      <th>3</th>\n",
       "      <td>1/28/2024 20:25:43</td>\n",
       "      <td>Male</td>\n",
       "      <td>Caucasian</td>\n",
       "      <td>senior</td>\n",
       "      <td>mint chocolate chip</td>\n",
       "      <td>Anytime</td>\n",
       "      <td>Anywhere</td>\n",
       "      <td>the taste</td>\n",
       "      <td>a good snack</td>\n",
       "      <td>already at home</td>\n",
       "    </tr>\n",
       "    <tr>\n",
       "      <th>4</th>\n",
       "      <td>1/28/2024 20:27:22</td>\n",
       "      <td>Male</td>\n",
       "      <td>Caucasian</td>\n",
       "      <td>senior</td>\n",
       "      <td>Cookie Dough</td>\n",
       "      <td>10:01pm-12am</td>\n",
       "      <td>Home</td>\n",
       "      <td>the taste</td>\n",
       "      <td>desert time</td>\n",
       "      <td>already at home</td>\n",
       "    </tr>\n",
       "    <tr>\n",
       "      <th>5</th>\n",
       "      <td>1/28/2024 20:27:51</td>\n",
       "      <td>Male</td>\n",
       "      <td>Caucasian</td>\n",
       "      <td>freshman</td>\n",
       "      <td>strawberry</td>\n",
       "      <td>4-6pm</td>\n",
       "      <td>ice cream store</td>\n",
       "      <td>the taste</td>\n",
       "      <td>a good snack</td>\n",
       "      <td>tradition to eat it at this place</td>\n",
       "    </tr>\n",
       "    <tr>\n",
       "      <th>6</th>\n",
       "      <td>1/28/2024 20:30:55</td>\n",
       "      <td>Male</td>\n",
       "      <td>Caucasian</td>\n",
       "      <td>Graduate</td>\n",
       "      <td>Tonight Dough Ben and Jerry’s</td>\n",
       "      <td>8:01-10pm</td>\n",
       "      <td>Home</td>\n",
       "      <td>the taste</td>\n",
       "      <td>desert time</td>\n",
       "      <td>Tastes better with that spoon from home</td>\n",
       "    </tr>\n",
       "    <tr>\n",
       "      <th>7</th>\n",
       "      <td>1/28/2024 20:30:56</td>\n",
       "      <td>Male</td>\n",
       "      <td>Caucasian</td>\n",
       "      <td>junior</td>\n",
       "      <td>Vanilla</td>\n",
       "      <td>8:01-10pm</td>\n",
       "      <td>Home</td>\n",
       "      <td>the taste</td>\n",
       "      <td>desert time, a good snack</td>\n",
       "      <td>already at home, going out with friends, tradi...</td>\n",
       "    </tr>\n",
       "    <tr>\n",
       "      <th>8</th>\n",
       "      <td>1/28/2024 20:33:09</td>\n",
       "      <td>Male</td>\n",
       "      <td>Caucasian</td>\n",
       "      <td>senior</td>\n",
       "      <td>mint chocolate chip</td>\n",
       "      <td>10:01pm-12am</td>\n",
       "      <td>Home</td>\n",
       "      <td>have a fond memory associated</td>\n",
       "      <td>a tradition to eat it at this time</td>\n",
       "      <td>tradition to eat it at this place</td>\n",
       "    </tr>\n",
       "    <tr>\n",
       "      <th>9</th>\n",
       "      <td>1/28/2024 21:17:55</td>\n",
       "      <td>Male</td>\n",
       "      <td>Caucasian</td>\n",
       "      <td>senior</td>\n",
       "      <td>Moose tracks</td>\n",
       "      <td>10:01pm-12am</td>\n",
       "      <td>Home</td>\n",
       "      <td>the taste</td>\n",
       "      <td>desert time</td>\n",
       "      <td>I like to eat it naked</td>\n",
       "    </tr>\n",
       "    <tr>\n",
       "      <th>10</th>\n",
       "      <td>1/28/2024 21:51:49</td>\n",
       "      <td>Male</td>\n",
       "      <td>Caucasian</td>\n",
       "      <td>freshman</td>\n",
       "      <td>Cookie Dough</td>\n",
       "      <td>8:01-10pm</td>\n",
       "      <td>Home</td>\n",
       "      <td>have a fond memory associated</td>\n",
       "      <td>desert time</td>\n",
       "      <td>already at home</td>\n",
       "    </tr>\n",
       "  </tbody>\n",
       "</table>\n",
       "</div>"
      ],
      "text/plain": [
       "             Timestamp What gender do you identify as?  \\\n",
       "0   1/28/2024 20:14:49                            Male   \n",
       "1   1/28/2024 20:16:07                          Female   \n",
       "2   1/28/2024 20:24:33                            Male   \n",
       "3   1/28/2024 20:25:43                            Male   \n",
       "4   1/28/2024 20:27:22                            Male   \n",
       "5   1/28/2024 20:27:51                            Male   \n",
       "6   1/28/2024 20:30:55                            Male   \n",
       "7   1/28/2024 20:30:56                            Male   \n",
       "8   1/28/2024 20:33:09                            Male   \n",
       "9   1/28/2024 21:17:55                            Male   \n",
       "10  1/28/2024 21:51:49                            Male   \n",
       "\n",
       "   What is your ethnicity? What year are you?  \\\n",
       "0         African-American           freshman   \n",
       "1                Caucasian             junior   \n",
       "2                Caucasian             senior   \n",
       "3                Caucasian             senior   \n",
       "4                Caucasian             senior   \n",
       "5                Caucasian           freshman   \n",
       "6                Caucasian           Graduate   \n",
       "7                Caucasian             junior   \n",
       "8                Caucasian             senior   \n",
       "9                Caucasian             senior   \n",
       "10               Caucasian           freshman   \n",
       "\n",
       "   What is your favorite type of ice cream? When you enjoy ice cream most  \\\n",
       "0                       mint chocolate chip                  10:01pm-12am   \n",
       "1                              Cookie Dough                     8:01-10pm   \n",
       "2                              Cookie Dough                  10:01pm-12am   \n",
       "3                       mint chocolate chip                       Anytime   \n",
       "4                              Cookie Dough                  10:01pm-12am   \n",
       "5                                strawberry                         4-6pm   \n",
       "6             Tonight Dough Ben and Jerry’s                     8:01-10pm   \n",
       "7                                   Vanilla                     8:01-10pm   \n",
       "8                       mint chocolate chip                  10:01pm-12am   \n",
       "9                             Moose tracks                   10:01pm-12am   \n",
       "10                             Cookie Dough                     8:01-10pm   \n",
       "\n",
       "   Where do you enjoy ice cream the most?  \\\n",
       "0                                    Home   \n",
       "1                                    Home   \n",
       "2                                    Home   \n",
       "3                                Anywhere   \n",
       "4                                    Home   \n",
       "5                         ice cream store   \n",
       "6                                    Home   \n",
       "7                                    Home   \n",
       "8                                    Home   \n",
       "9                                    Home   \n",
       "10                                   Home   \n",
       "\n",
       "   Why do you enjoy your favorite ice cream the most  \\\n",
       "0                                          the taste   \n",
       "1                                          the taste   \n",
       "2                                          the taste   \n",
       "3                                          the taste   \n",
       "4                                          the taste   \n",
       "5                                          the taste   \n",
       "6                                          the taste   \n",
       "7                                          the taste   \n",
       "8                      have a fond memory associated   \n",
       "9                                          the taste   \n",
       "10                     have a fond memory associated   \n",
       "\n",
       "   Why do you enjoy ice cream at the time you do?  \\\n",
       "0                                     desert time   \n",
       "1                                     desert time   \n",
       "2                                     desert time   \n",
       "3                                    a good snack   \n",
       "4                                     desert time   \n",
       "5                                    a good snack   \n",
       "6                                     desert time   \n",
       "7                       desert time, a good snack   \n",
       "8              a tradition to eat it at this time   \n",
       "9                                     desert time   \n",
       "10                                    desert time   \n",
       "\n",
       "                      Why do you eat it where you do?  \n",
       "0                                     already at home  \n",
       "1                                     already at home  \n",
       "2                                     already at home  \n",
       "3                                     already at home  \n",
       "4                                     already at home  \n",
       "5                   tradition to eat it at this place  \n",
       "6             Tastes better with that spoon from home  \n",
       "7   already at home, going out with friends, tradi...  \n",
       "8                   tradition to eat it at this place  \n",
       "9                             I like to eat it naked   \n",
       "10                                    already at home  "
      ]
     },
     "execution_count": 1,
     "metadata": {},
     "output_type": "execute_result"
    }
   ],
   "source": [
    "import pandas as pd\n",
    "rawDf = pd.read_csv(\"ice cream data.csv\")\n",
    "rawDf"
   ]
  },
  {
   "cell_type": "markdown",
   "metadata": {},
   "source": [
    "Find the percents for \"who\" questions - Gender, ethnicity, year"
   ]
  },
  {
   "cell_type": "code",
   "execution_count": 8,
   "metadata": {},
   "outputs": [
    {
     "data": {
      "text/plain": [
       "What gender do you identify as?\n",
       "Male      90.909091\n",
       "Female     9.090909\n",
       "Name: count, dtype: float64"
      ]
     },
     "execution_count": 8,
     "metadata": {},
     "output_type": "execute_result"
    }
   ],
   "source": [
    "maleGender = rawDf['What gender do you identify as?'].value_counts()\n",
    "malePercent = (maleGender / len(rawDf)) * 100\n",
    "malePercent"
   ]
  },
  {
   "cell_type": "code",
   "execution_count": 7,
   "metadata": {},
   "outputs": [
    {
     "data": {
      "text/plain": [
       "What is your ethnicity?\n",
       "Caucasian           90.909091\n",
       "African-American     9.090909\n",
       "Name: count, dtype: float64"
      ]
     },
     "execution_count": 7,
     "metadata": {},
     "output_type": "execute_result"
    }
   ],
   "source": [
    "Ethnicity = rawDf['What is your ethnicity?'].value_counts()\n",
    "EthnicityPercent = (Ethnicity / len(rawDf)) * 100\n",
    "EthnicityPercent"
   ]
  },
  {
   "cell_type": "code",
   "execution_count": 6,
   "metadata": {},
   "outputs": [
    {
     "data": {
      "text/plain": [
       "What year are you?\n",
       "senior      45.454545\n",
       "freshman    27.272727\n",
       "junior      18.181818\n",
       "Graduate     9.090909\n",
       "Name: count, dtype: float64"
      ]
     },
     "execution_count": 6,
     "metadata": {},
     "output_type": "execute_result"
    }
   ],
   "source": [
    "year = rawDf['What year are you?'].value_counts()\n",
    "yearPercent = (year / len(rawDf)) * 100\n",
    "yearPercent"
   ]
  },
  {
   "cell_type": "markdown",
   "metadata": {},
   "source": [
    "What is favorite type of ice cream?"
   ]
  },
  {
   "cell_type": "code",
   "execution_count": 9,
   "metadata": {},
   "outputs": [
    {
     "data": {
      "text/plain": [
       "What is your favorite type of ice cream?\n",
       "Cookie Dough                     36.363636\n",
       "mint chocolate chip              27.272727\n",
       "strawberry                        9.090909\n",
       "Tonight Dough Ben and Jerry’s     9.090909\n",
       "Vanilla                           9.090909\n",
       "Moose tracks                      9.090909\n",
       "Name: count, dtype: float64"
      ]
     },
     "execution_count": 9,
     "metadata": {},
     "output_type": "execute_result"
    }
   ],
   "source": [
    "iceCreamFav = rawDf[\"What is your favorite type of ice cream?\"].value_counts()\n",
    "iceCreamPercent = (iceCreamFav / len(rawDf)) * 100\n",
    "iceCreamPercent"
   ]
  },
  {
   "cell_type": "markdown",
   "metadata": {},
   "source": [
    "When do you consume ice cream?"
   ]
  },
  {
   "cell_type": "code",
   "execution_count": 10,
   "metadata": {},
   "outputs": [
    {
     "data": {
      "text/plain": [
       "When you enjoy ice cream most\n",
       "10:01pm-12am    45.454545\n",
       "8:01-10pm       36.363636\n",
       "Anytime          9.090909\n",
       "4-6pm            9.090909\n",
       "Name: count, dtype: float64"
      ]
     },
     "execution_count": 10,
     "metadata": {},
     "output_type": "execute_result"
    }
   ],
   "source": [
    "timeEaten = rawDf[\"When you enjoy ice cream most\"].value_counts()\n",
    "timePercent = (timeEaten / len(rawDf)) * 100\n",
    "timePercent"
   ]
  },
  {
   "cell_type": "markdown",
   "metadata": {},
   "source": [
    "Where do you eat ice cream?"
   ]
  },
  {
   "cell_type": "code",
   "execution_count": 11,
   "metadata": {},
   "outputs": [
    {
     "data": {
      "text/plain": [
       "Where do you enjoy ice cream the most?\n",
       "Home               81.818182\n",
       "Anywhere            9.090909\n",
       "ice cream store     9.090909\n",
       "Name: count, dtype: float64"
      ]
     },
     "execution_count": 11,
     "metadata": {},
     "output_type": "execute_result"
    }
   ],
   "source": [
    "locationEaten = rawDf[\"Where do you enjoy ice cream the most?\"].value_counts()\n",
    "locationPercent = (locationEaten / len(rawDf)) * 100\n",
    "locationPercent"
   ]
  },
  {
   "cell_type": "markdown",
   "metadata": {},
   "source": [
    "why do you eat ice cream?"
   ]
  },
  {
   "cell_type": "code",
   "execution_count": 12,
   "metadata": {},
   "outputs": [
    {
     "data": {
      "text/plain": [
       "Why do you enjoy your favorite ice cream the most\n",
       "the taste                        81.818182\n",
       "have a fond memory associated    18.181818\n",
       "Name: count, dtype: float64"
      ]
     },
     "execution_count": 12,
     "metadata": {},
     "output_type": "execute_result"
    }
   ],
   "source": [
    "whyEaten = rawDf[\"Why do you enjoy your favorite ice cream the most\"].value_counts()\n",
    "whyPercent = (whyEaten / len(rawDf)) * 100\n",
    "whyPercent"
   ]
  },
  {
   "cell_type": "markdown",
   "metadata": {},
   "source": [
    "why do you eat it when you do?"
   ]
  },
  {
   "cell_type": "code",
   "execution_count": 13,
   "metadata": {},
   "outputs": [
    {
     "data": {
      "text/plain": [
       "Why do you enjoy ice cream at the time you do?\n",
       "desert time                           63.636364\n",
       "a good snack                          18.181818\n",
       "desert time, a good snack              9.090909\n",
       "a tradition to eat it at this time     9.090909\n",
       "Name: count, dtype: float64"
      ]
     },
     "execution_count": 13,
     "metadata": {},
     "output_type": "execute_result"
    }
   ],
   "source": [
    "timeWhyEaten = rawDf[\"Why do you enjoy ice cream at the time you do?\"].value_counts()\n",
    "timeWhyPercent = (timeWhyEaten / len(rawDf)) * 100\n",
    "timeWhyPercent"
   ]
  }
 ],
 "metadata": {
  "kernelspec": {
   "display_name": "base",
   "language": "python",
   "name": "python3"
  },
  "language_info": {
   "codemirror_mode": {
    "name": "ipython",
    "version": 3
   },
   "file_extension": ".py",
   "mimetype": "text/x-python",
   "name": "python",
   "nbconvert_exporter": "python",
   "pygments_lexer": "ipython3",
   "version": "3.11.5"
  }
 },
 "nbformat": 4,
 "nbformat_minor": 2
}
